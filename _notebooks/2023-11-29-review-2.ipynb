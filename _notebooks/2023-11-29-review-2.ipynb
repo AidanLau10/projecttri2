{
 "cells": [
  {
   "cell_type": "markdown",
   "metadata": {},
   "source": [
    "---\n",
    "comments: true\n",
    "layout: notebook\n",
    "title: Review \n",
    "description: Review of first week\n",
    "toc: true\n",
    "type: tangibles\n",
    "courses: { compsci: {week: 1} }\n",
    "---"
   ]
  },
  {
   "cell_type": "markdown",
   "metadata": {},
   "source": [
    "- Important accomplishments \n",
    "    - Created simple logic gate evaluater with different logic gates like AND and OR\n",
    "    - Created question asker with an emoji output\n",
    "    - Styling of website\n",
    "    - Logic gates with emojis that has an emoji output\n",
    "    - Brawl stars bracket\n",
    "\n",
    "- Goal\n",
    "    - Finish second feature of binary\n"
   ]
  }
 ],
 "metadata": {
  "language_info": {
   "name": "python"
  }
 },
 "nbformat": 4,
 "nbformat_minor": 2
}
