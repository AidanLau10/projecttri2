{
 "cells": [
  {
   "cell_type": "markdown",
   "metadata": {},
   "source": [
    "---\n",
    "comments: true\n",
    "layout: notebook\n",
    "title: Daily Plan\n",
    "description: Final week for Binary Logic\n",
    "toc: true\n",
    "type: plans\n",
    "courses: { compsci: {week: 2} }\n",
    "---"
   ]
  },
  {
   "cell_type": "markdown",
   "metadata": {},
   "source": [
    "## Final Binary Logic\n",
    "\n",
    "- Monday\n",
    "    - Complete finishing touches for Binary Logic \n",
    "    - ![Idea 1](../../../images/3-layers.png)\n",
    "    - ![Idea 2](../../../images/AND-gate.png)\n",
    "    - ![Idea 3](../../../images/blank-diagram.png)\n",
    "    - ![Idea 4](../../../images/circuit-diagram.png)\n",
    "    - ![Idea 5](../../../images/default-io.png)\n",
    "    - ![Idea 6](../../../images/TTT.png)\n",
    "\n",
    "- Tuesday\n",
    "    - Live review for Binary Logic Final"
   ]
  }
 ],
 "metadata": {
  "language_info": {
   "name": "python"
  }
 },
 "nbformat": 4,
 "nbformat_minor": 2
}
