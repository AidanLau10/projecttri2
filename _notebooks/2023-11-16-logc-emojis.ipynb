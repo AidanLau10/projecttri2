{
 "cells": [
  {
   "attachments": {},
   "cell_type": "markdown",
   "metadata": {},
   "source": [
    "---\n",
    "comments: false\n",
    "layout: notebook\n",
    "title: Logic Gates With Emojis\n",
    "description: Expanding on the logic gates, this will produce an output containing an emoji\n",
    "type: hacks\n",
    "toc: true\n",
    "courses: { compsci: {week: 1} }\n",
    "---"
   ]
  },
  {
   "cell_type": "raw",
   "metadata": {},
   "source": [
    "<html>\n",
    "   <head>\n",
    "      <title>Logic Gates With Emojis</title>\n",
    "      <style>\n",
    "         .gates {\n",
    "         float: right;\n",
    "         width: 600px;\n",
    "         height: 500px;\n",
    "         }\n",
    "      </style>\n",
    "   </head>\n",
    "   <body>\n",
    "      <table>\n",
    "         <tr>\n",
    "            <th colspan=\"3\">\n",
    "               Input your answers to the questions and see the emojis. Select both answers if you're mixed or unsure.\n",
    "            </th>\n",
    "         </tr>\n",
    "         <tr>\n",
    "            <th>Questions</th>\n",
    "            <th>Circuit Diagram</th>\n",
    "            <th>Output</th>\n",
    "         </tr>\n",
    "         <tr>\n",
    "            <td>\n",
    "               <p>Did you have a good day today?</p>\n",
    "               <form>\n",
    "                  <input type=\"checkbox\" value=\"true\" />\n",
    "                  <label>A</label><br />\n",
    "                  <input type=\"checkbox\" value=\"false\" />\n",
    "                  <label for=\"vehicle2\">B</label><br />\n",
    "                  <input type=\"submit\" value=\"Submit\" />\n",
    "               </form>\n",
    "              </td>\n",
    "            <td rowspan=\"3\">\n",
    "               <img src=\"../../../images/3-layers.png\" class=\"gates\">\n",
    "            </td>\n",
    "            <td rowspan=\"3\">\n",
    "              <p id=\"emojiOutput\">Emoji</p>\n",
    "            </td>\n",
    "         </tr>\n",
    "         <tr>\n",
    "            <td>\n",
    "               <p>Did you eat breakfast?</p>\n",
    "               <form>\n",
    "                  <input type=\"checkbox\" value=\"true\" />\n",
    "                  <label>A</label><br />\n",
    "                  <input type=\"checkbox\" value=\"false\" />\n",
    "                  <label for=\"vehicle2\">B</label><br />\n",
    "                  <input type=\"submit\" value=\"Submit\" />\n",
    "               </form>\n",
    "            </td>\n",
    "         </tr>\n",
    "         <tr>\n",
    "            <td>\n",
    "               <p>Are you excited for school?</p>\n",
    "               <form>\n",
    "                  <input type=\"checkbox\" value=\"true\" />\n",
    "                  <label>A</label><br />\n",
    "                  <input type=\"checkbox\" value=\"false\" />\n",
    "                  <label for=\"vehicle2\">B</label><br />\n",
    "                  <input type=\"submit\" value=\"Submit\" />\n",
    "               </form>\n",
    "             </td>\n",
    "         </tr>\n",
    "      </table>\n",
    "   </body>\n",
    "</html>"
   ]
  },
  {
   "cell_type": "code",
   "execution_count": null,
   "metadata": {
    "vscode": {
     "languageId": "javascript"
    }
   },
   "outputs": [],
   "source": [
    "emojiOutput = document.getElementById('emojiOutput')\n"
   ]
  }
 ],
 "metadata": {
  "kernelspec": {
   "display_name": "Python 3 (ipykernel)",
   "language": "python",
   "name": "python3"
  },
  "language_info": {
   "codemirror_mode": {
    "name": "ipython",
    "version": 3
   },
   "file_extension": ".py",
   "mimetype": "text/x-python",
   "name": "python",
   "nbconvert_exporter": "python",
   "pygments_lexer": "ipython3",
   "version": "3.9.12"
  }
 },
 "nbformat": 4,
 "nbformat_minor": 2
}
