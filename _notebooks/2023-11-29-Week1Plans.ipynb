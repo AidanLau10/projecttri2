{
 "cells": [
  {
   "cell_type": "markdown",
   "metadata": {},
   "source": [
    "---\n",
    "comments: true\n",
    "layout: notebook\n",
    "title: Weekly Plan\n",
    "description: Our plans for the week of the 27th\n",
    "toc: true\n",
    "type: plans\n",
    "courses: { compsci: {week: 1} }\n",
    "---"
   ]
  },
  {
   "cell_type": "markdown",
   "metadata": {},
   "source": [
    "## These are our plans for this week: \n",
    "\n",
    "We want to get finished with our features\n",
    "\n",
    "Srini:\n",
    "- Working on a simple logic gate thing where it assigns emojis based on your response to questions"
   ]
  }
 ],
 "metadata": {
  "language_info": {
   "name": "python"
  }
 },
 "nbformat": 4,
 "nbformat_minor": 2
}
