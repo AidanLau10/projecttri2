{
 "cells": [
  {
   "cell_type": "markdown",
   "metadata": {},
   "source": [
    "---\n",
    "comments: true\n",
    "layout: notebook\n",
    "title: Would you Rather  \n",
    "description: This is a would you rather game that utilizes javascript logic gates       \n",
    "type: tangibles\n",
    "toc: true\n",
    "courses: { compsci: {week: 2} }\n",
    "---"
   ]
  },
  {
   "cell_type": "raw",
   "metadata": {},
   "source": [
    "<html lang=\"en\">\n",
    "<head>\n",
    "    <meta charset=\"UTF-8\">\n",
    "    <meta name=\"viewport\" content=\"width=device-width, initial-scale=1.0\">\n",
    "    <title>Would You Rather Game</title>\n",
    "    <style>\n",
    "        body {\n",
    "            font-family: Arial, sans-serif;\n",
    "            text-align: center;\n",
    "            margin-top: 50px;\n",
    "        }\n",
    "\n",
    "        button {\n",
    "            font-size: 16px;\n",
    "            padding: 10px 20px;\n",
    "            margin: 10px;\n",
    "            cursor: pointer;\n",
    "        }\n",
    "    </style>\n",
    "</head>\n",
    "<body>\n",
    "\n",
    "<h1>Would You Rather...</h1>\n",
    "\n",
    "<button onclick=\"answerQuestion('A')\">Option A</button>\n",
    "<button onclick=\"answerQuestion('B')\">Option B</button>\n",
    "\n",
    "<script>\n",
    "    // Function to handle user answers\n",
    "    function answerQuestion(answer) {\n",
    "        // Logic gates to determine the sound based on the answer\n",
    "        let sound;\n",
    "        if (answer === 'A') {\n",
    "            sound = 'soundA.mp3';\n",
    "        } else if (answer === 'B') {\n",
    "            sound = 'soundB.mp3';\n",
    "        } else {\n",
    "            sound = 'defaultSound.mp3';\n",
    "        }\n",
    "\n",
    "        // Play the selected sound\n",
    "        playSound(sound);\n",
    "    }\n",
    "\n",
    "    // Function to play the sound\n",
    "    function playSound(soundFile) {\n",
    "        const audio = new Audio(soundFile);\n",
    "        audio.play();\n",
    "    }\n",
    "</script>\n",
    "\n",
    "</body>\n",
    "</html>"
   ]
  }
 ],
 "metadata": {
  "language_info": {
   "name": "python"
  }
 },
 "nbformat": 4,
 "nbformat_minor": 2
}
