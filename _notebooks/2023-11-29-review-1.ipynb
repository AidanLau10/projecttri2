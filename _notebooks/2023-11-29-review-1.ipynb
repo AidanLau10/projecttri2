{
 "cells": [
  {
   "cell_type": "markdown",
   "metadata": {},
   "source": [
    "---\n",
    "comments: true\n",
    "layout: notebook\n",
    "title: Review \n",
    "description: Review of first week\n",
    "toc: true\n",
    "type: tangibles\n",
    "courses: { compsci: {week: 0} }\n",
    "---"
   ]
  },
  {
   "cell_type": "markdown",
   "metadata": {},
   "source": [
    "- Important accomplishments \n",
    "    - Created groups of 4 and assign roles\n",
    "    - Discussed plans and goals for the project\n",
    "    - Started researching how to use binary\n",
    "    - Started coding of binary into projct\n",
    "\n",
    "- Goal\n",
    "    - Finish first feature of Binary\n"
   ]
  }
 ],
 "metadata": {
  "language_info": {
   "name": "python"
  }
 },
 "nbformat": 4,
 "nbformat_minor": 2
}
