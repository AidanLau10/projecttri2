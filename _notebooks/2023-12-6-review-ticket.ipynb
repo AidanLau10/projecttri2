{
 "cells": [
  {
   "cell_type": "markdown",
   "metadata": {},
   "source": [
    "---\n",
    "comments: true\n",
    "layout: notebook\n",
    "title: Team Review Ticket\n",
    "description: Retrospective review ticket\n",
    "type: tangibles\n",
    "toc: true\n",
    "courses: { compsci: {week: 3} }\n",
    "---"
   ]
  }
 ],
 "metadata": {
  "language_info": {
   "name": "python"
  }
 },
 "nbformat": 4,
 "nbformat_minor": 2
}
