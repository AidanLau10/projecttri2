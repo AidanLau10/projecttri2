{
 "cells": [
  {
   "cell_type": "markdown",
   "metadata": {},
   "source": [
    "---\n",
    "comments: false\n",
    "layout: notebook\n",
    "title: Binary clock\n",
    "description: Create a binary clock that represents hours, minutes, and seconds using binary digits. This project not only gives you a visual representation of time in binary but also serves as a practical and aesthetic gadget.\n",
    "type: hacks\n",
    "toc: true\n",
    "courses: { compsci: {week: 1} }\n",
    "---"
   ]
  },
  {
   "cell_type": "code",
   "execution_count": null,
   "metadata": {
    "vscode": {
     "languageId": "html"
    }
   },
   "outputs": [],
   "source": [
    "<html lang=\"en\">\n",
    "<head>\n",
    "    <meta charset=\"UTF-8\">\n",
    "    <meta name=\"viewport\" content=\"width=device-width, initial-scale=1.0\">\n",
    "    <style>\n",
    "        body {\n",
    "            font-family: 'Arial', sans-serif;\n",
    "            text-align: center;\n",
    "            margin: 50px;\n",
    "        }\n",
    "\n",
    "        #binary-clock {\n",
    "            font-size: 24px;\n",
    "        }\n",
    "    </style>\n",
    "    <script>\n",
    "        // function for converting the current time into binary\n",
    "        function updateBinaryClock() {\n",
    "            // create a date object\n",
    "            const now = new Date();\n",
    "            // get the current hour, minute, and second and convert it to a string using base 2. \n",
    "            // then, after converting it to a string. use pad start. \n",
    "            // padStart(targetLength, padString). targetLength is the length of the string. padString is the string that is padded with the original string\n",
    "            const hours = now.getHours().toString(2).padStart(4, '0');\n",
    "            const minutes = now.getMinutes().toString(2).padStart(6, '0');\n",
    "            const seconds = now.getSeconds().toString(2).padStart(6, '0');\n",
    "\n",
    "            // get ids of the html for hours, minutes, and seconds and then update it to the binary value\n",
    "            document.getElementById('hours').textContent = hours;\n",
    "            document.getElementById('minutes').textContent = minutes;\n",
    "            document.getElementById('seconds').textContent = seconds;\n",
    "        }\n",
    "\n",
    "        // run the function every second\n",
    "        setInterval(updateBinaryClock, 1000);\n",
    "\n",
    "        // run the binary clock function to initialize it\n",
    "        updateBinaryClock();\n",
    "    </script>\n",
    "</head>\n",
    "<body>\n",
    "    <img id=\"clock_image\" src=\"../../../images/clock_image.jpg\" alt=\"Clock Image\">\n",
    "    <div id=\"binary-clock\">\n",
    "        <div>Hours: <span id=\"hours\"></span></div>\n",
    "        <div>Minutes: <span id=\"minutes\"></span></div>\n",
    "        <div>Seconds: <span id=\"seconds\"></span></div>\n",
    "    </div>\n",
    "</body>\n",
    "</html>\n"
   ]
  }
 ],
 "metadata": {
  "language_info": {
   "name": "python"
  }
 },
 "nbformat": 4,
 "nbformat_minor": 2
}
