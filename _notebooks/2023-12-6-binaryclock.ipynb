{
 "cells": [
  {
   "cell_type": "markdown",
   "metadata": {},
   "source": [
    "---\n",
    "comments: false\n",
    "layout: notebook\n",
    "title: Binary clock\n",
    "description: Create a binary clock that represents hours, minutes, and seconds using binary digits. This project not only gives you a visual representation of time in binary but also serves as a practical and aesthetic gadget.\n",
    "type: hacks\n",
    "toc: true\n",
    "courses: { compsci: {week: 1} }\n",
    "---"
   ]
  },
  {
   "cell_type": "raw",
   "metadata": {},
   "source": [
    "<html lang=\"en\">\n",
    "<head>\n",
    "    <meta charset=\"UTF-8\">\n",
    "    <meta name=\"viewport\" content=\"width=device-width, initial-scale=1.0\">\n",
    "    <style>\n",
    "        body {\n",
    "            font-family: 'Arial', sans-serif;\n",
    "            text-align: center;\n",
    "            margin: 50px;\n",
    "        }\n",
    "\n",
    "        #binary-clock {\n",
    "            font-size: 24px;\n",
    "        }\n",
    "    </style>\n",
    "    <script>\n",
    "        function updateBinaryClock() {\n",
    "            const now = new Date();\n",
    "            const hours = now.getHours().toString(2).padStart(4, '0');\n",
    "            const minutes = now.getMinutes().toString(2).padStart(6, '0');\n",
    "            const seconds = now.getSeconds().toString(2).padStart(6, '0');\n",
    "\n",
    "            document.getElementById('hours').textContent = hours;\n",
    "            document.getElementById('minutes').textContent = minutes;\n",
    "            document.getElementById('seconds').textContent = seconds;\n",
    "        }\n",
    "\n",
    "        // Update every second\n",
    "        setInterval(updateBinaryClock, 1000);\n",
    "\n",
    "        // Initial update\n",
    "        updateBinaryClock();\n",
    "    </script>\n",
    "</head>\n",
    "<body>\n",
    "    <img id=\"clock_image\" src=\"clock_image.jpg\" alt=\"Clock Image\">\n",
    "    <div id=\"binary-clock\">\n",
    "        <div>Hours: <span id=\"hours\"></span></div>\n",
    "        <div>Minutes: <span id=\"minutes\"></span></div>\n",
    "        <div>Seconds: <span id=\"seconds\"></span></div>\n",
    "    </div>\n",
    "</body>\n",
    "</html>\n"
   ]
  }
 ],
 "metadata": {
  "language_info": {
   "name": "python"
  }
 },
 "nbformat": 4,
 "nbformat_minor": 2
}
