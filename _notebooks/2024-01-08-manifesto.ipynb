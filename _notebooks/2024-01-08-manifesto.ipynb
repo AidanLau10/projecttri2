{
 "cells": [
  {
   "cell_type": "markdown",
   "metadata": {},
   "source": [
    "---\n",
    "comments: true\n",
    "layout: notebook\n",
    "title: Team Manifesto\n",
    "description: Manifesto team review ticket\n",
    "type: tangibles\n",
    "toc: true\n",
    "courses: { compsci: {week: 4} }\n",
    "---"
   ]
  }
 ],
 "metadata": {
  "language_info": {
   "name": "python"
  }
 },
 "nbformat": 4,
 "nbformat_minor": 2
}
