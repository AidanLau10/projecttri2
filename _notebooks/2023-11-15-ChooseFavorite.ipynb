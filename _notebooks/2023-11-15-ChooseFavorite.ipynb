{
 "cells": [
  {
   "cell_type": "markdown",
   "metadata": {},
   "source": [
    "---\n",
    "comments: true\n",
    "layout: notebook\n",
    "title: Choose Favorite\n",
    "description: Binary Brawl Stars\n",
    "type: hacks\n",
    "toc: true\n",
    "courses: { compsci: {week: 0} }\n",
    "---"
   ]
  },
  {
   "cell_type": "code",
   "execution_count": null,
   "metadata": {},
   "outputs": [],
   "source": [
    "%%js\n",
    "\n",
    "// Define binary logic gates\n",
    "function AND_gate(bit1, bit2) {\n",
    "    return bit1 & bit2;\n",
    "}\n",
    "\n",
    "function OR_gate(bit1, bit2) {\n",
    "    return bit1 | bit2;\n",
    "}\n",
    "\n",
    "function NOT_gate(bit) {\n",
    "    return ~bit;\n",
    "}\n",
    "\n",
    "// Function to determine the favorite object interactively\n",
    "function determineInteractiveFavorite() {\n",
    "    let choices = [true, true, false, false, false]; // Initial choices for objects 1 and 2\n",
    "    let round = 1;\n",
    "\n",
    "    while (choices.length > 1) {\n",
    "        console.log(`Round ${round}: Pick your favorite between objects ${choices.findIndex(choice => choice) + 1} and ${choices.lastIndexOf(false) + 1}`);\n",
    "\n",
    "        // Simulate user input (replace this with your actual user input logic)\n",
    "        // For now, it's randomly selecting a favorite\n",
    "        let userFavorite = Math.random() < 0.5;\n",
    "\n",
    "        // Convert choices to binary (1 for selected, 0 for not selected)\n",
    "        const bit1 = choices[0] ? 1 : 0;\n",
    "        const bit2 = choices[1] ? 1 : 0;\n",
    "\n",
    "        // Implement a basic binary logic circuit\n",
    "        const circuitOutput = OR_gate(\n",
    "            AND_gate(bit1, NOT_gate(bit2)),\n",
    "            AND_gate(bit2, NOT_gate(bit1))\n",
    "        );\n",
    "\n",
    "        // Narrow down choices based on the circuit output and user's favorite\n",
    "        choices = circuitOutput ? [choices[0], userFavorite] : [userFavorite, choices[1]];\n",
    "\n",
    "        round++;\n",
    "    }\n",
    "\n",
    "    console.log(`Your absolute favorite object is Object${choices.findIndex(choice => choice) + 1}`);\n",
    "}\n",
    "\n",
    "// Call the function to start the interactive process\n",
    "determineInteractiveFavorite();\n"
   ]
  }
 ],
 "metadata": {
  "kernelspec": {
   "display_name": "Python 3",
   "language": "python",
   "name": "python3"
  },
  "language_info": {
   "codemirror_mode": {
    "name": "ipython",
    "version": 3
   },
   "file_extension": ".py",
   "mimetype": "text/x-python",
   "name": "python",
   "nbconvert_exporter": "python",
   "pygments_lexer": "ipython3",
   "version": "3.9.2"
  },
  "orig_nbformat": 4
 },
 "nbformat": 4,
 "nbformat_minor": 2
}
