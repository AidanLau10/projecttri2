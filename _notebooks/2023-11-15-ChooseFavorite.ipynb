{
 "cells": [
  {
   "cell_type": "markdown",
   "metadata": {},
   "source": [
    "---\n",
    "comments: true\n",
    "layout: notebook\n",
    "title: Choose Favorite\n",
    "description: Binary Brawl Stars\n",
    "type: hacks\n",
    "toc: true\n",
    "courses: { compsci: {week: 0} }\n",
    "---"
   ]
  },
  {
   "cell_type": "code",
   "execution_count": 4,
   "metadata": {
    "vscode": {
     "languageId": "javascript"
    }
   },
   "outputs": [
    {
     "ename": "SyntaxError",
     "evalue": "invalid syntax (<ipython-input-4-a46dd28a831f>, line 1)",
     "output_type": "error",
     "traceback": [
      "\u001b[0;36m  File \u001b[0;32m\"<ipython-input-4-a46dd28a831f>\"\u001b[0;36m, line \u001b[0;32m1\u001b[0m\n\u001b[0;31m    function determineFavorite(choice1, choice2, choice3, choice4, choice5, choice6) {\u001b[0m\n\u001b[0m             ^\u001b[0m\n\u001b[0;31mSyntaxError\u001b[0m\u001b[0;31m:\u001b[0m invalid syntax\n"
     ]
    }
   ],
   "source": [
    "function determineFavorite(choice1, choice2, choice3, choice4, choice5, choice6) {\n",
    "    let choicesSelected = [choice1, choice2, choice3, choice4, choice5, choice6];\n",
    "    \n",
    "    const selectedCount = choicesSelected.filter(choice => choice).length;\n",
    "\n",
    "    if (selectedCount === 1) {\n",
    "        const favoriteIndex = choicesSelected.findIndex(choice => choice);\n",
    "        return `Your favorite is Choice ${favoriteIndex + 1}`;\n",
    "    } else if (selectedCount > 1) {\n",
    "        return \"Multiple choices selected. Please choose only one.\";\n",
    "    } else {\n",
    "        return \"No favorite selected\";\n",
    "    }\n",
    "}\n",
    "\n",
    "// Example usage:\n",
    "let myFavorite = determineFavorite(true, false, false, false, false, false);\n",
    "console.log(myFavorite);\n"
   ]
  }
 ],
 "metadata": {
  "kernelspec": {
   "display_name": "Python 3",
   "language": "python",
   "name": "python3"
  },
  "language_info": {
   "codemirror_mode": {
    "name": "ipython",
    "version": 3
   },
   "file_extension": ".py",
   "mimetype": "text/x-python",
   "name": "python",
   "nbconvert_exporter": "python",
   "pygments_lexer": "ipython3",
   "version": "3.9.2"
  },
  "orig_nbformat": 4
 },
 "nbformat": 4,
 "nbformat_minor": 2
}
