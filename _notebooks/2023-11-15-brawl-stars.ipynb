{
 "cells": [
  {
   "attachments": {},
   "cell_type": "markdown",
   "metadata": {},
   "source": [
    "---\n",
    "comments: true\n",
    "layout: notebook\n",
    "title: Brawl Stars\n",
    "description: Binary Brawl Stars\n",
    "type: hacks\n",
    "toc: true\n",
    "courses: { compsci: {week: 0} }\n",
    "---"
   ]
  },
  {
   "cell_type": "raw",
   "metadata": {},
   "source": [
    "<head>\n",
    "    <meta charset=\"UTF-8\">\n",
    "    <meta name=\"viewport\" content=\"width=device-width, initial-scale=1.0\">\n",
    "    <title>Brawl Stars Skin Bracket</title>\n",
    "    <!-- <link rel=\"stylesheet\" href=\"styles.css\"> -->\n",
    "</head>\n",
    "<body>\n",
    "    <div class=\"container\">\n",
    "        <h1>Brawl Stars Skin Bracket</h1>\n",
    "        <div id=\"bracket\"></div>\n",
    "        <button onclick=\"showFavorite()\">Show Favorite Skin</button>\n",
    "    </div>\n",
    "    <script src=\"../../../assets/js/brawl-stars.js\"></script>\n",
    "</body>\n"
   ]
  }
 ],
 "metadata": {
  "kernelspec": {
   "display_name": "Python 3 (ipykernel)",
   "language": "python",
   "name": "python3"
  },
  "language_info": {
   "codemirror_mode": {
    "name": "ipython",
    "version": 3
   },
   "file_extension": ".py",
   "mimetype": "text/x-python",
   "name": "python",
   "nbconvert_exporter": "python",
   "pygments_lexer": "ipython3",
   "version": "3.9.12"
  }
 },
 "nbformat": 4,
 "nbformat_minor": 2
}
