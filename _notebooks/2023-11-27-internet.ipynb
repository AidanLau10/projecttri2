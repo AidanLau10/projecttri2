{
 "cells": [
  {
   "cell_type": "markdown",
   "metadata": {},
   "source": [
    "---\n",
    "comments: true\n",
    "layout: notebook\n",
    "title: The Internet\n",
    "description: Big Idea 4.1 Student Teaching\n",
    "type: tangibles\n",
    "toc: true\n",
    "courses: { compsci: {week: 1} }\n",
    "---"
   ]
  },
  {
   "cell_type": "markdown",
   "metadata": {},
   "source": [
    "# 4.1 The Internet"
   ]
  },
  {
   "cell_type": "markdown",
   "metadata": {},
   "source": [
    "## Part 1\n",
    "\n",
    "- <span style=\"background-color: #b63c59\">The internet</span> is basically a way for computers to talk to each other using networks\n",
    "\n",
    "- A <span style=\"background-color: #b63c59\">packet</span> is a small amount of data sent over a network tha includes information about the sender and destination.\n",
    "\n",
    "![Packet](../../../images/packet.jpeg)\n",
    "\n",
    "- A <span style=\"background-color: #b63c59\">computer network</span> is a group of computing devices interacting with each other in some sort of way\n",
    "\n",
    "## How do computers send data to each other?\n",
    "\n",
    "- In a process called <span style=\"background-color: #b63c59\">packet switching</span>, a message(file) is broken up into packets which are reassembled by the receiver\n",
    "\n",
    "- A <span style=\"background-color: #b63c59\">path</span> is a sequence between a sender and a receiver\n",
    "\n",
    "- <span style=\"background-color: #b63c59\">Routing</span> is a process that finds a path from the sender to receiver\n",
    "\n",
    "    - Path is between the sender and receiver and the router will help find the path\n",
    "\n",
    "\n",
    "- <span style=\"background-color: #b63c59\">Bandwidth</span> is the maximum amount of data that can be sent in a computer network\n"
   ]
  },
  {
   "cell_type": "markdown",
   "metadata": {},
   "source": [
    "## Popcorn Hack 1"
   ]
  },
  {
   "cell_type": "markdown",
   "metadata": {},
   "source": [
    "![The Internet](../../../images/network.png)"
   ]
  },
  {
   "cell_type": "markdown",
   "metadata": {},
   "source": [
    "- What is the diagram showing?\n",
    "\n",
    "1. Bandwidth\n",
    "2. Computer Network\n",
    "3. Packet Switching\n",
    "4. Operating System\n",
    "\n",
    "* Two possible answers\n",
    "\n",
    "<button id=\"answer1\">Answer</button>\n",
    "\n",
    "<script>\n",
    "    const answerButton = document.getElementById('answer1')\n",
    "\n",
    "answerButton.addEventListener('click', (event) => {\n",
    "    answerButton.innerHTML = 'The two answers are 2 and 3 because it shows networks between a sender and receiver and the process of sending packets to send data.'\n",
    "});\n",
    "</script>\n"
   ]
  },
  {
   "cell_type": "markdown",
   "metadata": {},
   "source": [
    "## Part 2\n",
    "\n",
    "- <span style=\"background-color: #b63c59\">Protocols</span> are a set of rules for the way data is transferred throughout the internet\n",
    "\n",
    "- All of these protocls were created by the Internet Engineering Task Force(IETF)\n",
    "\n",
    "- The OSI(Open Systems Interconnect) model shows the 7 layers you have to go throught to communicate between other computers\n",
    "\n",
    "![OSI Model](../../../images/osi.png)\n",
    "\n",
    "- TCP(Transmission Control Protocol) is a protocol for how to send messages between devices\n",
    "\n",
    "![TCP Model](../../../images/tcp.png)\n",
    "\n",
    "![Waist Model](../../../images/narrow-waist.png)\n",
    "\n",
    "## What is an example of the OSI/TCP Model\n",
    "\n",
    "![Process](../../../images/process.png)\n",
    "\n",
    "## Network Access/Internet Layer\n",
    "\n",
    "- The process usually starts with the Internet layer where the user's computer is assigned a unique IP address so it can communicate with other computers or web servers\n",
    "    - A DHCP(Dynamic Host Configuration Protocol) assigns the computer its unique IP address\n",
    "\n",
    "## Application/Transport Layer\n",
    "\n",
    "1. The user sends a <span style=\"background-color: #b63c59\">request</span> to a server or page\n",
    "2. If the user wants to go to a website like amazon.com, it has its <span style=\"background-color: #b63c59\">unique</span> IP address but it isn't readable by humans so a <span style=\"background-color: #b63c59\">DNS</span>(Domain Name Service), which stores the IP address inside of a database, sends it over the user\n",
    "3. During this process, the user sent a <span style=\"background-color: #b63c59\">TCP</span> request for the IP of amazon.com to the DNS server and the DNS server sent a TCP <span style=\"background-color: #b63c59\">response</span> in the form of packets for the IP of amazon.com\n",
    "4. Now, the user can send a <span style=\"background-color: #b63c59\">request</span> to the IP of the webpage like amazon.com\n",
    "5. The last step is for a <span style=\"background-color: #b63c59\">router</span> to send the user to the correct destination of the IP. In this case, amazon.com.\n",
    "\n",
    "## Protocols used here are:\n",
    "- <span style=\"background-color: #b63c59\">HTTP</span> - Hyper Text Transfer Protocol\n",
    "    - Rules for the communication between a web server and the client's web server\n",
    "    - Used for sending <span style=\"background-color: #b63c59\">requests</span> from a user and receiving a <span style=\"background-color: #b63c59\">response</span> in the form of HTML or JSON from the server.\n",
    "- <span style=\"background-color: #b63c59\">HTTPS</span>\n",
    "    - HTTPS is HTTP with security. In last trimester's final project, the devops person used certbot to make the HTTP requests to the backend secure.\n",
    "\n",
    "![HTTP](../../../images/http.png)\n",
    "\n",
    "- <span style=\"background-color: #b63c59\">TCP/IP</span> - Transmission Control Protocol, Internet Protocol\n",
    "    - TCP/IP messages from the user are broken up into <span style=\"background-color: #b63c59\">packets</span> with are sent to the receiver through the internet\n",
    "    - A computer has a unique IP address that is used to communicate between other computers over the internet using the protocol, <span style=\"background-color: #b63c59\">IP</span>.\n",
    "    - IP takes the packets and sends it along the right path in the computer network to the right destination by <span style=\"background-color: #b63c59\">routers</span>.\n",
    "\n",
    "![TCP/IP](../../../images/tcpip.png)"
   ]
  },
  {
   "cell_type": "markdown",
   "metadata": {},
   "source": [
    "## Homework\n",
    "\n",
    "Bandwidth:\n",
    "1. In the context of computer networks, elaborate on the concept of bandwidth. Discuss how bandwidth influences the speed and efficiency of data transfer. Provide examples of scenarios where both high and low bandwidth can impact the performance of internet connected devices.\n",
    "Computer Network:\n",
    "2. Explore computer networks by detailing the key components and their interplay. Discuss the significance of scalability, security, and reliability in designing computer networks. Provide real-world examples of how different types of computer networks, such as local area networks (LANs) and wide area networks (WANs), serve distinct purposes in various settings.\n",
    "Packet Switching:\n",
    "3. Investigate packet switching and its role in modern communication systems. Compare and contrast packet switching with alternative methods, such as circuit switching, highlighting the advantages that packet switching brings to data transmission. Describe the journey of a data packet through a network."
   ]
  },
  {
   "cell_type": "markdown",
   "metadata": {},
   "source": [
    "## "
   ]
  }
 ],
 "metadata": {
  "kernelspec": {
   "display_name": "Python 3 (ipykernel)",
   "language": "python",
   "name": "python3"
  },
  "language_info": {
   "codemirror_mode": {
    "name": "ipython",
    "version": 3
   },
   "file_extension": ".py",
   "mimetype": "text/x-python",
   "name": "python",
   "nbconvert_exporter": "python",
   "pygments_lexer": "ipython3",
   "version": "3.11.4"
  }
 },
 "nbformat": 4,
 "nbformat_minor": 4
}
