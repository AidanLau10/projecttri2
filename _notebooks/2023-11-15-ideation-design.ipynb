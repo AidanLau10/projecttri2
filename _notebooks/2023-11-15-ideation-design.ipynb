{
 "cells": [
  {
   "attachments": {},
   "cell_type": "markdown",
   "metadata": {},
   "source": [
    "---\n",
    "comments: true\n",
    "layout: notebook\n",
    "title: Ideation and Design\n",
    "description: Our plan for our binary logic project\n",
    "type: hacks\n",
    "toc: true\n",
    "courses: { compsci: {week: 0} }\n",
    "---"
   ]
  },
  {
   "cell_type": "markdown",
   "metadata": {},
   "source": [
    "# Ideation\n",
    "\n",
    "- Looked over examples of binary in the Binary Logic blog\n",
    "- Examples of logic gates and emojis seemed interesting because showed input and output and an interesting frontend with emojis\n",
    "\n",
    "- Questions:\n",
    "    - How do you use binary to output emojis?\n",
    "    - How do you use binary for logic gates?\n",
    "        - Isn't it just if else statements and user input?\n",
    "\n"
   ]
  },
  {
   "cell_type": "markdown",
   "metadata": {},
   "source": [
    "# Design\n",
    "\n",
    "- Have instructions on the left side of the screen that tells the user to respond to questions at the logic gates\n",
    "- Based on the answers of the user, it will produce a certain emoji\n",
    "    - Ex: The user's day was good and they got good sleep so it will output a happy emoji using binary"
   ]
  }
 ],
 "metadata": {
  "kernelspec": {
   "display_name": "Python 3 (ipykernel)",
   "language": "python",
   "name": "python3"
  },
  "language_info": {
   "codemirror_mode": {
    "name": "ipython",
    "version": 3
   },
   "file_extension": ".py",
   "mimetype": "text/x-python",
   "name": "python",
   "nbconvert_exporter": "python",
   "pygments_lexer": "ipython3",
   "version": "3.9.12"
  }
 },
 "nbformat": 4,
 "nbformat_minor": 2
}
