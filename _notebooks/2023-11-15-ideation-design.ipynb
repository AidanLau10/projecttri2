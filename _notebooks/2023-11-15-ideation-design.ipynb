{
 "cells": [
  {
   "attachments": {},
   "cell_type": "markdown",
   "metadata": {},
   "source": [
    "---\n",
    "comments: true\n",
    "layout: notebook\n",
    "title: Ideation and Design\n",
    "description: Our plan for our binary logic project\n",
    "type: hacks\n",
    "toc: true\n",
    "courses: { compsci: {week: 0} }\n",
    "---"
   ]
  },
  {
   "cell_type": "markdown",
   "metadata": {},
   "source": [
    "# Ideation\n",
    "\n",
    "- Looked over examples of binary in the Binary Logic blog\n",
    "- Examples of logic gates and emojis seemed interesting because showed input and output and an interesting frontend with emojis\n",
    "\n",
    "- Questions:\n",
    "    - How do you use binary to output emojis?\n",
    "    - How do you use binary for logic gates?\n",
    "        - Isn't it just if else statements and user input?\n",
    "\n"
   ]
  },
  {
   "cell_type": "markdown",
   "metadata": {},
   "source": [
    "# Design\n",
    "\n",
    "- Have instructions on the left side of the screen that tells the user to respond to questions at the logic gates\n",
    "\n",
    "![Logic Gates](../../../images/logic-gate.jpeg)\n",
    "\n",
    "- Based on the answers of the user, it will produce a certain emoji\n",
    "    - Ex: The user's day was good and they got good sleep so it will output a happy emoji using binary\n",
    "\n",
    "![Emojis](../../../images/emojis.png)"
   ]
  },
  {
   "cell_type": "markdown",
   "metadata": {},
   "source": [
    "# Frontend Design\n",
    "- This code prepares the user inputs and ids that the Javascript will evaluate and produce an output"
   ]
  },
  {
   "cell_type": "code",
   "execution_count": null,
   "metadata": {
    "vscode": {
     "languageId": "html"
    }
   },
   "outputs": [],
   "source": [
    "<!-- options for which logic gate the user wants to select -->\n",
    "<select id=\"gate\">\n",
    "  <option value=\"d\"> Please Select</option>\n",
    "  <option value=\"1\">AND</option>\n",
    "  <option value=\"2\">OR</option>\n",
    "  <option value=\"3\">XOR</option>\n",
    "  <option value=\"4\">NAND</option>\n",
    "  <option value=\"5\">NOR</option>\n",
    "</select>\n",
    "<!-- 2 different true/false binary values the logic gate will evaluate -->\n",
    "<select id=\"v1\">\n",
    "  <option value=\"d\"> Please Select</option>\n",
    "  <option value=\"b1\">0</option>\n",
    "  <option value=\"b2\">1</option>\n",
    "</select>\n",
    "<!-- 2 different true/false binary values the logic gate will evaluate -->\n",
    "<select id=\"v2\">\n",
    "  <option value=\"d\"> Please Select</option>\n",
    "  <option value=\"b1\">0</option>\n",
    "  <option value=\"b2\">1</option>\n",
    "</select>\n",
    "\n",
    "<!-- when button is clicked, populate the input -->\n",
    "<input id=\"result\">\n",
    "<button id=\"buttonId\">Run Logic</button>"
   ]
  },
  {
   "cell_type": "markdown",
   "metadata": {},
   "source": [
    "# Frontend Javascript\n",
    "- This code will take whatever the user inputted and apply logic gates to produce an output"
   ]
  },
  {
   "cell_type": "code",
   "execution_count": null,
   "metadata": {
    "vscode": {
     "languageId": "javascript"
    }
   },
   "outputs": [],
   "source": [
    "// get the id of the run logic button and when it is clicked, run the logic function\n",
    "document.getElementById('buttonId').addEventListener('click', logic);\n",
    "\n",
    "// function that evaluates the output depending on the logic gate\n",
    "function logic() {\n",
    "  var elGate = document.getElementById('gate');\n",
    "  var elV1 = document.getElementById('v1');\n",
    "  var elV2 = document.getElementById('v2');\n",
    "\n",
    "  // d is the value of the 'please select' button so if it isn't clicked, get the value of the gate value and convert it into an integer(1,2,3,4,5)\n",
    "  var gateValue = elGate.value !== 'd' ? parseInt(elGate.value) : undefined;\n",
    "  var v1Value = elV1.value === 'b1' ? false : elV1.value === 'b2' ? true : undefined;\n",
    "  var v2Value = elV2.value === 'b1' ? false : elV2.value === 'b2' ? true : undefined;\n",
    "\n",
    "  var result = 'Invalid result';\n",
    "\n",
    "  // switch case statements that evaluate the logic of the gates\n",
    "  if (v1Value !== undefined && v2Value !== undefined && gateValue !== undefined && gateValue > 0 && gateValue < 6) {\n",
    "    // since gateValue was converted to an integer, the case will be 1,2,3,4, or 5\n",
    "    switch (gateValue) {\n",
    "      // AND gate\n",
    "      case 1:\n",
    "        result = (v1Value && v2Value) ? 'true' : 'false';\n",
    "        break;\n",
    "      // OR gate\n",
    "      case 2:\n",
    "        result = (v1Value || v2Value) ? 'true' : 'false';\n",
    "        break;\n",
    "      // XOR gate: different inputs mean rue, same inputs mean false\n",
    "      case 3:\n",
    "        result = ((v1Value && !v2Value) || (!v1Value && v2Value)) ? 'true' : 'false';\n",
    "        break;\n",
    "      // NAND gate: both inputs true mean false, else output true\n",
    "      case 4:\n",
    "        result = (!(v1Value && v2Value)) ? 'true' : 'false';\n",
    "        break;\n",
    "      // NOR gate: both inputs false mean true, else output false\n",
    "      case 5:\n",
    "        result = (!(v1Value || v2Value)) ? 'true' : 'false';\n",
    "        break;\n",
    "      default:\n",
    "        break;\n",
    "    }\n",
    "  }\n",
    "  // set the value of the empty output box to the value of result\n",
    "  document.getElementById('result').value = result;\n",
    "}"
   ]
  },
  {
   "cell_type": "markdown",
   "metadata": {},
   "source": [
    "# Further Design\n",
    "\n",
    "- We'll expand these logic gates to emojis\n",
    "    - So it will ask a question and the user will input yes or no(1 or 0)\n",
    "    - Based on the input, it will produce an emoji"
   ]
  }
 ],
 "metadata": {
  "kernelspec": {
   "display_name": "Python 3 (ipykernel)",
   "language": "python",
   "name": "python3"
  },
  "language_info": {
   "codemirror_mode": {
    "name": "ipython",
    "version": 3
   },
   "file_extension": ".py",
   "mimetype": "text/x-python",
   "name": "python",
   "nbconvert_exporter": "python",
   "pygments_lexer": "ipython3",
   "version": "3.9.12"
  }
 },
 "nbformat": 4,
 "nbformat_minor": 2
}
