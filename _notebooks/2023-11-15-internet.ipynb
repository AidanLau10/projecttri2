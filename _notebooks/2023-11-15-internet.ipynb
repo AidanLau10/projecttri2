{
 "cells": [
  {
   "attachments": {},
   "cell_type": "markdown",
   "metadata": {},
   "source": [
    "---\n",
    "comments: true\n",
    "layout: notebook\n",
    "title: The Internet\n",
    "description: Big Idea 4.1 Student Teaching\n",
    "type: tangibles\n",
    "toc: true\n",
    "courses: { compsci: {week: 1} }\n",
    "---"
   ]
  },
  {
   "cell_type": "markdown",
   "metadata": {},
   "source": [
    "![The Internet](../../../images/network.png)"
   ]
  },
  {
   "cell_type": "markdown",
   "metadata": {},
   "source": [
    "- Select Two Answers\n",
    "1. Bandwidth\n",
    "2. Computer Network\n",
    "3. Packet Switching\n",
    "4. Operating System"
   ]
  },
  {
   "cell_type": "markdown",
   "metadata": {},
   "source": [
    "Match the terms with their definitions.\n",
    "1. Path\n",
    "2. Route\n",
    "3. Computer System\n",
    "4. Computer Devive\n",
    "5. Bandwidth\n",
    "6. Computer Network\n",
    "\n",
    "a. is a sequence of directly connected computing devices that begin at the sender and ends at the reciever\n",
    "\n",
    "b. is a group of computing devices and programs working together for a common purpose\n",
    "\n",
    "c. is a physical artifact that can run a program. Some examples include computers, tablets, servers, routers, and smart sensors.\n",
    "\n",
    "d. the maximum amount of data that can be sent in a fixed amount of time.\n",
    "\n",
    "e. is a process of finding a path from sender to reciever\n",
    "\n",
    "f. is a group of interconnected computing devices capable of sending or receiving data.\n",
    "\n",
    "\n",
    "Answers:\n",
    "path - e) is a process of finding a path from sender to receiver\n",
    "com - e) is a process of finding a path from sender to receiver\n",
    "Computer System - b) is a group of computing devices and programs working together for a common purpose\n",
    "Computer Device - c) is a physical artifact that can run a program. Some examples include computers, tablets, servers, routers, and smart sensors.\n",
    "Bandwidth - d) the maximum amount of data that can be sent in a fixed amount of time.\n",
    "Computer Network - f) is a group of interconnected computing devices capable of sending or receiving data.\n",
    "\n",
    "T or F Open standards and protocols enable different manafactures and developers to build hardware and software that can communicate with hardware and software on the rest of the internet\n",
    "T or F IETF is a task force used to enforce lwas to keep manafacturers out of the internet\n",
    "T or F Routes are determined in advanced and are not flexible\n",
    "T or F A protocol is an agreed-upon set of rules that specify the behavior of a system.\n",
    "T or F UDP guarantees transfers and is faster\n",
    "T or F The World Wide Web is the internet HTTP is a protocol used by the World Wide Web\n",
    "Answers: T, F, F, T, F,F, T\n",
    "\n",
    "\n",
    "Homework Questions:\n",
    "Bandwidth:\n",
    "a. In the context of computer networks, elaborate on the concept of bandwidth. Discuss how bandwidth influences the speed and efficiency of data transfer. Provide examples of scenarios where both high and low bandwidth can impact the performance of internet connected devices.\n",
    "Computer Network:\n",
    "a. Explore computer networks by detailing the key components and their interplay. Discuss the significance of scalability, security, and reliability in designing computer networks. Provide real-world examples of how different types of computer networks, such as local area networks (LANs) and wide area networks (WANs), serve distinct purposes in various settings.\n",
    "Packet Switching:\n",
    "a. Investigate packet switching and its role in modern communication systems. Compare and contrast packet switching with alternative methods, such as circuit switching, highlighting the advantages that packet switching brings to data transmission. Describe the journey of a data packet through a network."
   ]
  },
  {
   "cell_type": "markdown",
   "metadata": {},
   "source": []
  },
  {
   "cell_type": "markdown",
   "metadata": {},
   "source": []
  },
  {
   "cell_type": "markdown",
   "metadata": {},
   "source": []
  }
 ],
 "metadata": {
  "kernelspec": {
   "display_name": "Python 3 (ipykernel)",
   "language": "python",
   "name": "python3"
  },
  "language_info": {
   "codemirror_mode": {
    "name": "ipython",
    "version": 3
   },
   "file_extension": ".py",
   "mimetype": "text/x-python",
   "name": "python",
   "nbconvert_exporter": "python",
   "pygments_lexer": "ipython3",
   "version": "3.9.12"
  }
 },
 "nbformat": 4,
 "nbformat_minor": 2
}
