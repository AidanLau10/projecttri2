{
 "cells": [
  {
   "attachments": {},
   "cell_type": "markdown",
   "metadata": {},
   "source": [
    "---\n",
    "comments: true\n",
    "layout: notebook\n",
    "title: The Internet\n",
    "description: Big Idea 4.1 Student Teaching\n",
    "type: tangibles\n",
    "toc: true\n",
    "courses: { compsci: {week: 1} }\n",
    "---"
   ]
  },
  {
   "cell_type": "markdown",
   "metadata": {},
   "source": [
    "![The Internet](../../../images/network.png)"
   ]
  },
  {
   "cell_type": "markdown",
   "metadata": {},
   "source": [
    "- Select Two Answers\n",
    "1. Bandwidth\n",
    "2. Computer Network\n",
    "3. Packet Switching\n",
    "4. Operating System"
   ]
  },
  {
   "cell_type": "markdown",
   "metadata": {},
   "source": [
    "Match the terms with their definitions.\n",
    "1. Path\n",
    "2. Route\n",
    "3. Computer System\n",
    "4. Computer Devive\n",
    "5. Bandwidth\n",
    "6. Computer Network\n",
    "\n",
    "a. is a sequence of directly connected computing devices that begin at the sender and ends at the reciever\n",
    "\n",
    "b. is a group of computing devices and programs working together for a common purpose\n",
    "\n",
    "c. is a physical artifact that can run a program. Some examples include computers, tablets, servers, routers, and smart sensors.\n",
    "\n",
    "d. the maximum amount of data that can be sent in a fixed amount of time.\n",
    "\n",
    "e. is a process of finding a path from sender to reciever\n",
    "\n",
    "f. is a group of interconnected computing devices capable of sending or receiving data.\n",
    "\n",
    "Answers:\n",
    "path - e) is a process of finding a path from sender to receiver\n",
    "com - e) is a process of finding a path from sender to receiver\n",
    "Computer System - b) is a group of computing devices and programs working together for a common purpose\n",
    "Computer Device - c) is a physical artifact that can run a program. Some examples include computers, tablets, servers, routers, and smart sensors.\n",
    "Bandwidth - d) the maximum amount of data that can be sent in a fixed amount of time.\n",
    "Computer Network - f) is a group of interconnected computing devices capable of sending or receiving data."
   ]
  },
  {
   "cell_type": "markdown",
   "metadata": {},
   "source": []
  }
 ],
 "metadata": {
  "kernelspec": {
   "display_name": "Python 3 (ipykernel)",
   "language": "python",
   "name": "python3"
  },
  "language_info": {
   "codemirror_mode": {
    "name": "ipython",
    "version": 3
   },
   "file_extension": ".py",
   "mimetype": "text/x-python",
   "name": "python",
   "nbconvert_exporter": "python",
   "pygments_lexer": "ipython3",
   "version": "3.9.12"
  }
 },
 "nbformat": 4,
 "nbformat_minor": 2
}
